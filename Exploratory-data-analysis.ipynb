{
 "cells": [
  {
   "cell_type": "code",
   "execution_count": 11,
   "id": "fbe77bb4-c994-4b79-8fa8-d727bb9611d8",
   "metadata": {},
   "outputs": [],
   "source": [
    "import pandas as pd\n",
    "\n",
    "import torch.nn.functional as F\n",
    "import torch.nn as nn\n",
    "import torch\n",
    "import numpy as np\n",
    "from tqdm.auto import tqdm\n",
    "tqdm.pandas()\n",
    "\n",
    "from datasets import load_dataset\n",
    "import transformers\n",
    "from transformers import AutoTokenizer, BertTokenizer, EncoderDecoderModel"
   ]
  },
  {
   "cell_type": "code",
   "execution_count": 4,
   "id": "3f6abd68-e889-4787-b4cf-a92c3a4ee90e",
   "metadata": {},
   "outputs": [
    {
     "name": "stderr",
     "output_type": "stream",
     "text": [
      "Found cached dataset wmt14 (/home/administrator/.cache/huggingface/datasets/wmt14/de-en/1.0.0/2de185b074515e97618524d69f5e27ee7545dcbed4aa9bc1a4235710ffca33f4)\n"
     ]
    },
    {
     "data": {
      "application/vnd.jupyter.widget-view+json": {
       "model_id": "9153a9e0689343c6b3e6a3a6c58d3660",
       "version_major": 2,
       "version_minor": 0
      },
      "text/plain": [
       "  0%|          | 0/3 [00:00<?, ?it/s]"
      ]
     },
     "metadata": {},
     "output_type": "display_data"
    }
   ],
   "source": [
    "## Data\n",
    "dataset = load_dataset(*['wmt14', 'de-en'])\n",
    "# subset = list(range(0, 8))\n",
    "# dataset['train'] = torch.utils.data.Subset(dataset['train'], subset)\n",
    "# dataset['validation'] = torch.utils.data.Subset(dataset['validation'], subset)\n",
    "# dataset['test'] = torch.utils.data.Subset(dataset['test'], subset)"
   ]
  },
  {
   "cell_type": "code",
   "execution_count": 5,
   "id": "1b5c56ed-36ef-4c78-8612-1e50d03001fb",
   "metadata": {},
   "outputs": [],
   "source": [
    "\n",
    "### Tokenizers\n",
    "de_tokenizer = AutoTokenizer.from_pretrained(\"dbmdz/bert-base-german-cased\")\n",
    "en_tokenizer = BertTokenizer.from_pretrained(\"bert-base-cased\")\n"
   ]
  },
  {
   "cell_type": "code",
   "execution_count": 7,
   "id": "ce20719b-99e6-40e3-b7d3-2211c69e91e3",
   "metadata": {},
   "outputs": [],
   "source": [
    "df_train = pd.DataFrame.from_dict(dataset['train'])"
   ]
  },
  {
   "cell_type": "code",
   "execution_count": 8,
   "id": "46e2d62f-3540-4ce9-aff5-1c0cddb5607d",
   "metadata": {},
   "outputs": [
    {
     "data": {
      "text/html": [
       "<div>\n",
       "<style scoped>\n",
       "    .dataframe tbody tr th:only-of-type {\n",
       "        vertical-align: middle;\n",
       "    }\n",
       "\n",
       "    .dataframe tbody tr th {\n",
       "        vertical-align: top;\n",
       "    }\n",
       "\n",
       "    .dataframe thead th {\n",
       "        text-align: right;\n",
       "    }\n",
       "</style>\n",
       "<table border=\"1\" class=\"dataframe\">\n",
       "  <thead>\n",
       "    <tr style=\"text-align: right;\">\n",
       "      <th></th>\n",
       "      <th>translation</th>\n",
       "    </tr>\n",
       "  </thead>\n",
       "  <tbody>\n",
       "    <tr>\n",
       "      <th>0</th>\n",
       "      <td>{'de': 'Wiederaufnahme der Sitzungsperiode', '...</td>\n",
       "    </tr>\n",
       "    <tr>\n",
       "      <th>1</th>\n",
       "      <td>{'de': 'Ich erkläre die am Freitag, dem 17. De...</td>\n",
       "    </tr>\n",
       "    <tr>\n",
       "      <th>2</th>\n",
       "      <td>{'de': 'Wie Sie feststellen konnten, ist der g...</td>\n",
       "    </tr>\n",
       "    <tr>\n",
       "      <th>3</th>\n",
       "      <td>{'de': 'Im Parlament besteht der Wunsch nach e...</td>\n",
       "    </tr>\n",
       "    <tr>\n",
       "      <th>4</th>\n",
       "      <td>{'de': 'Heute möchte ich Sie bitten - das ist ...</td>\n",
       "    </tr>\n",
       "    <tr>\n",
       "      <th>...</th>\n",
       "      <td>...</td>\n",
       "    </tr>\n",
       "    <tr>\n",
       "      <th>4508780</th>\n",
       "      <td>{'de': 'Das bleibt eine der größten Errungensc...</td>\n",
       "    </tr>\n",
       "    <tr>\n",
       "      <th>4508781</th>\n",
       "      <td>{'de': 'Gleichzeitig scheint sich Zumas revolu...</td>\n",
       "    </tr>\n",
       "    <tr>\n",
       "      <th>4508782</th>\n",
       "      <td>{'de': 'In einer Region, wo die älteren Mensch...</td>\n",
       "    </tr>\n",
       "    <tr>\n",
       "      <th>4508783</th>\n",
       "      <td>{'de': 'Drei von zehn Südafrikanern sind jünge...</td>\n",
       "    </tr>\n",
       "    <tr>\n",
       "      <th>4508784</th>\n",
       "      <td>{'de': 'Irgendwie muss Zuma einen Weg finden, ...</td>\n",
       "    </tr>\n",
       "  </tbody>\n",
       "</table>\n",
       "<p>4508785 rows × 1 columns</p>\n",
       "</div>"
      ],
      "text/plain": [
       "                                               translation\n",
       "0        {'de': 'Wiederaufnahme der Sitzungsperiode', '...\n",
       "1        {'de': 'Ich erkläre die am Freitag, dem 17. De...\n",
       "2        {'de': 'Wie Sie feststellen konnten, ist der g...\n",
       "3        {'de': 'Im Parlament besteht der Wunsch nach e...\n",
       "4        {'de': 'Heute möchte ich Sie bitten - das ist ...\n",
       "...                                                    ...\n",
       "4508780  {'de': 'Das bleibt eine der größten Errungensc...\n",
       "4508781  {'de': 'Gleichzeitig scheint sich Zumas revolu...\n",
       "4508782  {'de': 'In einer Region, wo die älteren Mensch...\n",
       "4508783  {'de': 'Drei von zehn Südafrikanern sind jünge...\n",
       "4508784  {'de': 'Irgendwie muss Zuma einen Weg finden, ...\n",
       "\n",
       "[4508785 rows x 1 columns]"
      ]
     },
     "execution_count": 8,
     "metadata": {},
     "output_type": "execute_result"
    }
   ],
   "source": [
    "df_train"
   ]
  },
  {
   "cell_type": "code",
   "execution_count": 13,
   "id": "7898bf71-67f2-4a5f-9856-58f82ee89341",
   "metadata": {},
   "outputs": [
    {
     "data": {
      "application/vnd.jupyter.widget-view+json": {
       "model_id": "94590ee951ea461d8c472eacfd47dfea",
       "version_major": 2,
       "version_minor": 0
      },
      "text/plain": [
       "  0%|          | 0/4508785 [00:00<?, ?it/s]"
      ]
     },
     "metadata": {},
     "output_type": "display_data"
    }
   ],
   "source": [
    "\n",
    "def num_tokens(x):\n",
    "    en_len = en_tokenizer(x['en'], padding=True, truncation=True, return_tensors=\"pt\", add_special_tokens=True)['input_ids'].shape[1]\n",
    "    de_len = de_tokenizer(x['de'], padding=True, truncation=True, return_tensors=\"pt\", add_special_tokens=True)['input_ids'].shape[1]\n",
    "    return en_len, de_len\n",
    "\n",
    "df_train['en'], df_train['de'] = zip(*df_train.translation.progress_apply(num_tokens))"
   ]
  },
  {
   "cell_type": "code",
   "execution_count": 15,
   "id": "0cc56a48-8cc7-4de1-b83d-155b91dc70a7",
   "metadata": {},
   "outputs": [],
   "source": [
    "lang_from, lang_to = 'en', 'de'"
   ]
  },
  {
   "cell_type": "code",
   "execution_count": 20,
   "id": "addfdd6a-1ff7-4518-8a29-febfe944f842",
   "metadata": {},
   "outputs": [],
   "source": [
    "df_train['sum_len'] = df_train[lang_from] + df_train[lang_to]"
   ]
  },
  {
   "cell_type": "code",
   "execution_count": 22,
   "id": "20cb6945-4cdf-49f6-8ecb-1f04c17b238d",
   "metadata": {},
   "outputs": [],
   "source": [
    "df_train = df_train[[lang_from, lang_to,'sum_len']].sort_values('sum_len', ascending=False)"
   ]
  },
  {
   "cell_type": "code",
   "execution_count": 26,
   "id": "c5e97286-2f4f-472a-9386-02374f74c384",
   "metadata": {},
   "outputs": [],
   "source": [
    "df_train['index'] = df_train.index"
   ]
  },
  {
   "cell_type": "code",
   "execution_count": 30,
   "id": "096d1346-f580-437b-b919-e94d54274277",
   "metadata": {},
   "outputs": [],
   "source": [
    "df_train.to_csv('train.csv', index=False)"
   ]
  },
  {
   "cell_type": "code",
   "execution_count": 31,
   "id": "703e76e4-848c-4c03-8bdd-42d57e8b8c4c",
   "metadata": {},
   "outputs": [
    {
     "name": "stdout",
     "output_type": "stream",
     "text": [
      "huggingface/tokenizers: The current process just got forked, after parallelism has already been used. Disabling parallelism to avoid deadlocks...\n",
      "To disable this warning, you can either:\n",
      "\t- Avoid using `tokenizers` before the fork if possible\n",
      "\t- Explicitly set the environment variable TOKENIZERS_PARALLELISM=(true | false)\n",
      "en,de,sum_len,index\n",
      "512,512,1024,3967163\n",
      "512,512,1024,1505155\n",
      "512,512,1024,2924173\n",
      "512,512,1024,2381664\n",
      "512,512,1024,3964757\n",
      "512,512,1024,3176806\n",
      "512,512,1024,2381655\n",
      "512,512,1024,2391878\n",
      "512,512,1024,2515103\n"
     ]
    }
   ],
   "source": [
    "!head train.csv"
   ]
  },
  {
   "cell_type": "code",
   "execution_count": null,
   "id": "42c2c155-7d3f-44a3-a325-a5a1d6323e8d",
   "metadata": {},
   "outputs": [],
   "source": []
  },
  {
   "cell_type": "code",
   "execution_count": 35,
   "id": "a36708bb-ea57-47ba-806e-b12b05ba7b12",
   "metadata": {},
   "outputs": [
    {
     "data": {
      "text/html": [
       "<div>\n",
       "<style scoped>\n",
       "    .dataframe tbody tr th:only-of-type {\n",
       "        vertical-align: middle;\n",
       "    }\n",
       "\n",
       "    .dataframe tbody tr th {\n",
       "        vertical-align: top;\n",
       "    }\n",
       "\n",
       "    .dataframe thead th {\n",
       "        text-align: right;\n",
       "    }\n",
       "</style>\n",
       "<table border=\"1\" class=\"dataframe\">\n",
       "  <thead>\n",
       "    <tr style=\"text-align: right;\">\n",
       "      <th></th>\n",
       "      <th>en</th>\n",
       "      <th>de</th>\n",
       "      <th>sum_len</th>\n",
       "      <th>index</th>\n",
       "    </tr>\n",
       "  </thead>\n",
       "  <tbody>\n",
       "    <tr>\n",
       "      <th>1869726</th>\n",
       "      <td>50</td>\n",
       "      <td>50</td>\n",
       "      <td>100</td>\n",
       "      <td>1869726</td>\n",
       "    </tr>\n",
       "    <tr>\n",
       "      <th>3203990</th>\n",
       "      <td>50</td>\n",
       "      <td>50</td>\n",
       "      <td>100</td>\n",
       "      <td>3203990</td>\n",
       "    </tr>\n",
       "    <tr>\n",
       "      <th>1512970</th>\n",
       "      <td>50</td>\n",
       "      <td>50</td>\n",
       "      <td>100</td>\n",
       "      <td>1512970</td>\n",
       "    </tr>\n",
       "    <tr>\n",
       "      <th>1525862</th>\n",
       "      <td>50</td>\n",
       "      <td>50</td>\n",
       "      <td>100</td>\n",
       "      <td>1525862</td>\n",
       "    </tr>\n",
       "    <tr>\n",
       "      <th>1590117</th>\n",
       "      <td>50</td>\n",
       "      <td>50</td>\n",
       "      <td>100</td>\n",
       "      <td>1590117</td>\n",
       "    </tr>\n",
       "    <tr>\n",
       "      <th>...</th>\n",
       "      <td>...</td>\n",
       "      <td>...</td>\n",
       "      <td>...</td>\n",
       "      <td>...</td>\n",
       "    </tr>\n",
       "    <tr>\n",
       "      <th>775947</th>\n",
       "      <td>3</td>\n",
       "      <td>3</td>\n",
       "      <td>6</td>\n",
       "      <td>775947</td>\n",
       "    </tr>\n",
       "    <tr>\n",
       "      <th>329863</th>\n",
       "      <td>3</td>\n",
       "      <td>3</td>\n",
       "      <td>6</td>\n",
       "      <td>329863</td>\n",
       "    </tr>\n",
       "    <tr>\n",
       "      <th>374917</th>\n",
       "      <td>3</td>\n",
       "      <td>3</td>\n",
       "      <td>6</td>\n",
       "      <td>374917</td>\n",
       "    </tr>\n",
       "    <tr>\n",
       "      <th>763411</th>\n",
       "      <td>3</td>\n",
       "      <td>3</td>\n",
       "      <td>6</td>\n",
       "      <td>763411</td>\n",
       "    </tr>\n",
       "    <tr>\n",
       "      <th>442169</th>\n",
       "      <td>3</td>\n",
       "      <td>3</td>\n",
       "      <td>6</td>\n",
       "      <td>442169</td>\n",
       "    </tr>\n",
       "  </tbody>\n",
       "</table>\n",
       "<p>3741274 rows × 4 columns</p>\n",
       "</div>"
      ],
      "text/plain": [
       "         en  de  sum_len    index\n",
       "1869726  50  50      100  1869726\n",
       "3203990  50  50      100  3203990\n",
       "1512970  50  50      100  1512970\n",
       "1525862  50  50      100  1525862\n",
       "1590117  50  50      100  1590117\n",
       "...      ..  ..      ...      ...\n",
       "775947    3   3        6   775947\n",
       "329863    3   3        6   329863\n",
       "374917    3   3        6   374917\n",
       "763411    3   3        6   763411\n",
       "442169    3   3        6   442169\n",
       "\n",
       "[3741274 rows x 4 columns]"
      ]
     },
     "execution_count": 35,
     "metadata": {},
     "output_type": "execute_result"
    }
   ],
   "source": [
    "df_train[(df_train.en<=50) & (df_train.de<=50)]"
   ]
  },
  {
   "cell_type": "code",
   "execution_count": null,
   "id": "e86acc45-9fba-4efe-adf1-c1502e538658",
   "metadata": {},
   "outputs": [],
   "source": []
  },
  {
   "cell_type": "code",
   "execution_count": null,
   "id": "7c62e6e7-be21-45eb-8852-9ac268c884b1",
   "metadata": {},
   "outputs": [],
   "source": [
    "BS = 2\n",
    "train_loader = torch.utils.data.DataLoader(dataset['train'], batch_size=BS, shuffle=True)\n",
    "val_loader = torch.utils.data.DataLoader(dataset['validation'], batch_size=BS, shuffle=False)\n",
    "test_loader = torch.utils.data.DataLoader(dataset['test'], batch_size=BS, shuffle=False)"
   ]
  },
  {
   "cell_type": "code",
   "execution_count": null,
   "id": "3b44524d-6e80-43e9-b86e-b9b127040391",
   "metadata": {},
   "outputs": [],
   "source": []
  }
 ],
 "metadata": {
  "kernelspec": {
   "display_name": "python311",
   "language": "python",
   "name": "python311"
  },
  "language_info": {
   "codemirror_mode": {
    "name": "ipython",
    "version": 3
   },
   "file_extension": ".py",
   "mimetype": "text/x-python",
   "name": "python",
   "nbconvert_exporter": "python",
   "pygments_lexer": "ipython3",
   "version": "3.11.3"
  }
 },
 "nbformat": 4,
 "nbformat_minor": 5
}
